{
  "cells": [
    {
      "cell_type": "markdown",
      "metadata": {
        "colab_type": "text",
        "id": "view-in-github"
      },
      "source": [
        "<a href=\"https://colab.research.google.com/github/rkhamilton/vqgan-clip-generator/blob/main/vqgan_clip_generator.ipynb\" target=\"_parent\"><img src=\"https://colab.research.google.com/assets/colab-badge.svg\" alt=\"Open In Colab\"/></a>"
      ]
    },
    {
      "cell_type": "markdown",
      "metadata": {
        "id": "rDyBDEzug52I"
      },
      "source": [
        "# **VQGAN_CLIP_GENERATOR**\n",
        "An easily installable VQGAN+CLIP image generator with a focus on restyling (style transfer) existing videos.  \n",
        "Documentation is provided at [the project home page](https://github.com/rkhamilton/vqgan-clip-generator).\n",
        "\n",
        "The vqgan_clip_genrator package was developed primarily for ease of use, ease of installation on local computers, and to facilitate development of a different way to restyle videos.\n",
        "\n",
        "This package is compatible with all of the usual trained models that work with VQGAN (sflickr, coco, etc). Code is provided here only for ImageNet for simplicity.\n"
      ]
    },
    {
      "cell_type": "code",
      "execution_count": null,
      "metadata": {
        "cellView": "form",
        "id": "nIuj306fiSZ3"
      },
      "outputs": [],
      "source": [
        "#@title MIT License\n",
        "# \n",
        "\n",
        "# Copyright (c) 2021 Ryan Hamilton\n",
        "\n",
        "# Permission is hereby granted, free of charge, to any person obtaining a copy\n",
        "# of this software and associated documentation files (the \"Software\"), to deal\n",
        "# in the Software without restriction, including without limitation the rights\n",
        "# to use, copy, modify, merge, publish, distribute, sublicense, and/or sell\n",
        "# copies of the Software, and to permit persons to whom the Software is\n",
        "# furnished to do so, subject to the following conditions:\n",
        "\n",
        "# The above copyright notice and this permission notice shall be included in\n",
        "# all copies or substantial portions of the Software.\n",
        "\n",
        "# THE SOFTWARE IS PROVIDED \"AS IS\", WITHOUT WARRANTY OF ANY KIND, EXPRESS OR\n",
        "# IMPLIED, INCLUDING BUT NOT LIMITED TO THE WARRANTIES OF MERCHANTABILITY,\n",
        "# FITNESS FOR A PARTICULAR PURPOSE AND NONINFRINGEMENT. IN NO EVENT SHALL THE\n",
        "# AUTHORS OR COPYRIGHT HOLDERS BE LIABLE FOR ANY CLAIM, DAMAGES OR OTHER\n",
        "# LIABILITY, WHETHER IN AN ACTION OF CONTRACT, TORT OR OTHERWISE, ARISING FROM,\n",
        "# OUT OF OR IN CONNECTION WITH THE SOFTWARE OR THE USE OR OTHER DEALINGS IN\n",
        "# THE SOFTWARE."
      ]
    },
    {
      "cell_type": "code",
      "execution_count": null,
      "metadata": {
        "cellView": "form",
        "id": "E_6iLeM3iYnX"
      },
      "outputs": [],
      "source": [
        "#@markdown What GPU am I using?\n",
        "\n",
        "#@markdown V100 > P100 > everything else\n",
        "\n",
        "!nvidia-smi --query-gpu=gpu_name,memory.total,gpu_bus_id,vbios_version --format=csv\n",
        "gpu_name = !nvidia-smi --query-gpu=gpu_name, --format=csv"
      ]
    },
    {
      "cell_type": "markdown",
      "metadata": {
        "id": "JNzOgDXwkEd1"
      },
      "source": [
        "# **Filesystem Setup**\n",
        "Run either the Local Filesystem or Google Drive blocks to set your root location."
      ]
    },
    {
      "cell_type": "code",
      "execution_count": null,
      "metadata": {
        "cellView": "form",
        "id": "HmSvVo4i0g2q"
      },
      "outputs": [],
      "source": [
        "#@title Connect Google Drive\n",
        "#@markdown This option connects to your google drive, and saves model files and output to that location for re-use.\n",
        "import os\n",
        "abs_root_path = \"/content\"\n",
        "\n",
        "from google.colab import drive\n",
        "drive.mount('/content/drive')\n",
        "\n",
        "def ensureProperRootPath():\n",
        "    if len(abs_root_path) > 0:\n",
        "        os.chdir(abs_root_path) # Changes directory to absolute root path\n",
        "        print(\"Root path check: \")\n",
        "        !pwd\n",
        "\n",
        "ensureProperRootPath()\n",
        "\n",
        "def make_folder(folder_name):\n",
        "  if len(folder_name) > 0:\n",
        "      path_tmp = os.path.join(\"/content/drive/MyDrive/\",folder_name)\n",
        "      if not os.path.exists(path_tmp):\n",
        "          os.mkdir(path_tmp)\n",
        "      return path_tmp\n",
        "\n",
        "\n",
        "project_folder_name = \"VQGAN_CLIP_GENERATOR\" #@param {type: \"string\"}\n",
        "abs_root_path = make_folder(project_folder_name)\n",
        "\n",
        "print(\"Created folder & set root path to: \" + abs_root_path)"
      ]
    },
    {
      "cell_type": "code",
      "execution_count": null,
      "metadata": {
        "cellView": "form",
        "id": "9IRt8k4zkJJK"
      },
      "outputs": [],
      "source": [
        "#@title Use Local Colab Filesystem\n",
        "#@markdown If you use the local google filesystem, all data will be lost at the\n",
        "#@markdown end of the session. VQGAN models will have to be re-downloaded.\n",
        "import os\n",
        "abs_root_path = \"/content\"\n",
        "def ensureProperRootPath():\n",
        "    if len(abs_root_path) > 0:\n",
        "        os.chdir(abs_root_path) # Changes directory to absolute root path\n",
        "        print(\"Root path check: \")\n",
        "        !pwd\n",
        "\n",
        "ensureProperRootPath()\n",
        "print(\"Your root directory is: \")\n",
        "!pwd\n",
        "\n",
        "def make_folder(folder_name):\n",
        "  abs_root_path = \"/content\"\n",
        "  if len(folder_name) > 0:\n",
        "      path_tmp = abs_root_path + \"/drive/MyDrive/\" + folder_name\n",
        "      if not os.path.exists(path_tmp):\n",
        "          os.mkdir(path_tmp)\n",
        "      return path_tmp\n"
      ]
    },
    {
      "cell_type": "markdown",
      "metadata": {
        "id": "Vcg7AtFi2YBT"
      },
      "source": [
        "# **Set Paths and Download Dependencies**\n",
        "Run either the Local Filesystem or Google Drive blocks to set your root location."
      ]
    },
    {
      "cell_type": "code",
      "execution_count": null,
      "metadata": {
        "cellView": "form",
        "id": "5o4Gnh960iTG"
      },
      "outputs": [],
      "source": [
        "#@title Download dependencies\n",
        "\n",
        "!pip install git+https://github.com/openai/CLIP.git\n",
        "!pip install git+https://github.com/rkhamilton/vqgan-clip-generator.git\n",
        "!pip install opencv-python scipy\n",
        "!pip install basicsr\n",
        "!pip install facexlib\n",
        "!pip install gfpgan\n",
        "!pip install git+https://github.com/xinntao/Real-ESRGAN\n",
        "!pip install sk-video\n",
        "!pip install opencv-python\n",
        "!pip install moviepy\n",
        "!git clone git@github.com:hzwer/arXiv2020-RIFE.git"
      ]
    },
    {
      "cell_type": "code",
      "execution_count": null,
      "metadata": {
        "cellView": "form",
        "id": "7L74ZQ7j05Cc"
      },
      "outputs": [],
      "source": [
        "#@title Define Paths\n",
        "extracted_video_frames_dir = os.path.join(abs_root_path, \"extracted_video_frames\")\n",
        "generated_video_frames_path = os.path.join(abs_root_path, \"generated_video_frames\")\n",
        "upscaled_video_frames_path = os.path.join(abs_root_path, \"upscaled_video_frames\")\n",
        "\n",
        "output_dir = os.path.join(abs_root_path, \"output\")\n",
        "models_dir = os.path.join(abs_root_path, \"models\")\n",
        "\n",
        "make_folder(extracted_video_frames_dir)\n",
        "make_folder(generated_video_frames_path)\n",
        "make_folder(upscaled_video_frames_path)\n",
        "make_folder(output_dir)\n",
        "make_folder(models_dir)"
      ]
    },
    {
      "cell_type": "code",
      "execution_count": null,
      "metadata": {
        "cellView": "form",
        "id": "FwoOMaTAWYF_"
      },
      "outputs": [],
      "source": [
        "#@title Import libraries\n",
        "from vqgan_clip import generate, video_tools, esrgan\n",
        "from vqgan_clip.engine import VQGAN_CLIP_Config\n",
        "import os\n",
        "from IPython import display\n",
        "import subprocess"
      ]
    },
    {
      "cell_type": "markdown",
      "metadata": {
        "id": "mXsdHZAsnFe2"
      },
      "source": [
        "# **Generate Images and Video**"
      ]
    },
    {
      "cell_type": "markdown",
      "metadata": {},
      "source": [
        "# **Generate a single image from a prompt**"
      ]
    },
    {
      "cell_type": "code",
      "execution_count": 16,
      "metadata": {
        "cellView": "form",
        "colab": {
          "base_uri": "https://localhost:8080/",
          "height": 122
        },
        "id": "EcgniZWUnDa7",
        "outputId": "c0c9301d-41fe-4bd9-cdde-6fcbe34446e4"
      },
      "outputs": [
        {
          "name": "stdout",
          "output_type": "stream",
          "text": [
            "Working with z of shape (1, 256, 16, 16) = 65536 dimensions.\n",
            "loaded pretrained LPIPS loss from taming/modules/autoencoder/lpips/vgg.pth\n",
            "VQLPIPSWithDiscriminator running with hinge loss.\n",
            "Restored from /content/drive/MyDrive/VQGAN_CLIP_GENERATOR/models/vqgan_imagenet_f16_16384.ckpt\n"
          ]
        },
        {
          "name": "stderr",
          "output_type": "stream",
          "text": [
            "100%|██████████| 100/100 [03:20<00:00,  2.00s/iteration]\n"
          ]
        },
        {
          "data": {
            "application/vnd.google.colaboratory.intrinsic+json": {
              "type": "string"
            },
            "text/plain": [
              "'A pastoral landscape painting by Rembrandt.png'"
            ]
          },
          "metadata": {},
          "output_type": "display_data"
        }
      ],
      "source": [
        "#@title Generate the image\n",
        "config = VQGAN_CLIP_Config()\n",
        "output_image_width_pixels = 128 #@param {type: \"integer\"}\n",
        "output_image_height_pixels = 128 #@param {type: \"integer\"}\n",
        "config.output_image_size = [output_image_width_pixels,output_image_height_pixels]\n",
        "text_prompts = 'A pastoral landscape painting by Rembrandt' #@param {type: \"string\"}\n",
        "iterations = 100 #@param {type: \"integer\"}\n",
        "\n",
        "output_filename = os.path.join(output_dir,'my_image.png')\n",
        "generate.image(eng_config = config,\n",
        "        text_prompts = text_prompts,\n",
        "        iterations = iterations,\n",
        "        output_filename = output_filename)\n",
        "\n",
        "print(output_filename)\n",
        "display.display(display.Image(output_filename))"
      ]
    },
    {
      "cell_type": "code",
      "execution_count": null,
      "metadata": {},
      "outputs": [],
      "source": [
        "#@title Upscale the image\n",
        "esrgan.inference_realesrgan(input=output_filename,\n",
        "        output_images_path=output_dir,\n",
        "        face_enhance=True)\n",
        "\n",
        "upscaled_filename = os.path.splitext(output_filename)[0] + '_upscaled.png'\n",
        "print(upscaled_filename)\n",
        "display.display(display.Image(upscaled_filename))"
      ]
    },
    {
      "cell_type": "markdown",
      "metadata": {},
      "source": [
        "# **Generate a zoom video**"
      ]
    },
    {
      "cell_type": "code",
      "execution_count": null,
      "metadata": {
        "cellView": "form",
        "colab": {
          "base_uri": "https://localhost:8080/",
          "height": 121
        },
        "id": "mDnWY_e0Usza",
        "outputId": "1dfdb24c-7a5f-4baa-f957-22874f1d8ef6"
      },
      "outputs": [],
      "source": [
        "#@title Generate a single image to initialize the video.\n",
        "#@markdown Generate a video with movement. Every frame that is generated has a shift or zoom applied to it.\n",
        "#@markdown This gives the appearance of motion in the result.\n",
        "#@markdown This is one of the most interesting application of VQGAN+CLIP here.\n",
        "\n",
        "config = VQGAN_CLIP_Config()\n",
        "text_prompts = 'A pastoral landscape painting by Rembrandt | wolves chasing sheep' #@param {type: \"string\"}\n",
        "output_image_width_pixels = 128 #@param {type: \"integer\"}\n",
        "output_image_height_pixels = 128 #@param {type: \"integer\"}\n",
        "config.output_image_size = [output_image_width_pixels,output_image_height_pixels]\n",
        "num_video_frames = 150 #@param {type: \"integer\"}\n",
        "iterations_per_frame = 15 #@param {type: \"integer\"}\n",
        "change_prompts_on_frame= [60, 100] #@param {type: \"integer\"}\n",
        "video_framerate=30  #@param {type: \"integer\"}\n",
        "zoom_scale=1.02  #@param {type: \"number\"}\n",
        "shift_x=1 #@param {type: \"integer\"}\n",
        "shift_y=1 #@param {type: \"integer\"}\n",
        "final_video_filename = 'zoom_video.mp4' #@param {type: \"string\"}\n",
        "\n",
        "output_file_path = os.path.join(output_dir, final_video_filename)\n",
        "\n",
        "\n",
        "config = VQGAN_CLIP_Config()\n",
        "config.output_image_size = [output_image_width_pixels,output_image_height_pixels]\n",
        "init_image = os.path.join(output_dir,'init_image.png')\n",
        "generate.image(eng_config = config,\n",
        "        text_prompts = text_prompts,\n",
        "        iterations = 30,\n",
        "        output_filename = init_image)"
      ]
    },
    {
      "cell_type": "code",
      "execution_count": null,
      "metadata": {},
      "outputs": [],
      "source": [
        "#@title Generate a zoom video starting from that initial frame.\n",
        "metadata_comment = generate.video_frames(num_video_frames=num_video_frames,\n",
        "        eng_config = config,\n",
        "        text_prompts = text_prompts,\n",
        "        init_image = init_image,\n",
        "        generated_video_frames_path = generated_video_frames_path,\n",
        "        iterations_per_frame = iterations_per_frame,\n",
        "        change_prompts_on_frame= change_prompts_on_frame,\n",
        "        zoom_scale=zoom_scale, \n",
        "        shift_x=shift_x, \n",
        "        shift_y=shift_y,\n",
        "        z_smoother=True,\n",
        "        z_smoother_buffer_len=5,\n",
        "        z_smoother_alpha=0.9)\n",
        "\n",
        "video_frames_to_encode = generated_video_frames_path"
      ]
    },
    {
      "cell_type": "code",
      "execution_count": null,
      "metadata": {},
      "outputs": [],
      "source": [
        "#@title Upscale the video frames\n",
        "upscaled_video_frames_path='upscaled_video_frames'\n",
        "esrgan.inference_realesrgan(input=generated_video_frames_path,\n",
        "        output_images_path=upscaled_video_frames_path,\n",
        "        face_enhance=False,\n",
        "        purge_existing_files=True)\n",
        "video_frames_to_encode = upscaled_video_frames_path"
      ]
    },
    {
      "cell_type": "code",
      "execution_count": null,
      "metadata": {},
      "outputs": [],
      "source": [
        "#@title Encode the video frames to MP4\n",
        "video_tools.encode_video(output_file=final_video_filename,\n",
        "        path_to_stills=video_frames_to_encode,\n",
        "        metadata_title=text_prompts,\n",
        "        metadata_comment=metadata_comment,\n",
        "        input_framerate=video_framerate)"
      ]
    },
    {
      "cell_type": "code",
      "execution_count": null,
      "metadata": {},
      "outputs": [],
      "source": [
        "#@title Use optical flow interpolation with RIFE\n",
        "RIFE_interpolation_factor = 4 #Valid choices are 4 or 16\n",
        "of_cmnd = f'python arXiv2020-RIFE\\\\inference_video.py --exp={2 if RIFE_interpolation_factor==4 else 4} --model=arXiv2020-RIFE\\\\train_log --video={final_video_filename}'\n",
        "subprocess.Popen(of_cmnd,shell=True).wait()\n",
        "print(f'RIFE optical flow command used was:\\n{of_cmnd}')\n",
        "metadata_option = f'-metadata title=\\\"{text_prompts}\\\" -metadata comment=\\\"{metadata_comment}\\\" -metadata description=\\\"Generated with https://github.com/rkhamilton/vqgan-clip-generator\\\"'\n",
        "# RIFE appends a string to the original filename of the form \"original_filename_4X_120fps.mp4\"\n",
        "RIFE_output_filename = os.path.splitext(final_video_filename)[0] + f'_{RIFE_interpolation_factor}X_{video_framerate*RIFE_interpolation_factor}fps.mp4'\n",
        "FFMPEG_output_filename = os.path.splitext(RIFE_output_filename)[0] + '_reencoded.mp4'\n",
        "ffmpeg_command = f'ffmpeg -y -i {RIFE_output_filename} -vcodec libx264 -crf 23 -pix_fmt yuv420p -hide_banner -loglevel error {metadata_option} {FFMPEG_output_filename}'\n",
        "subprocess.Popen(ffmpeg_command,shell=True).wait()\n",
        "print(f'FFMPEG command used was:\\t{ffmpeg_command}')"
      ]
    },
    {
      "cell_type": "markdown",
      "metadata": {},
      "source": [
        "# **Style transfer to an existing video**"
      ]
    },
    {
      "cell_type": "code",
      "execution_count": null,
      "metadata": {
        "cellView": "form",
        "colab": {
          "base_uri": "https://localhost:8080/"
        },
        "id": "D7rWbv4zXEBq",
        "outputId": "b1802b02-2263-437d-dad2-6a8e7c088d3a"
      },
      "outputs": [
        {
          "name": "stdout",
          "output_type": "stream",
          "text": [
            "input_video.MOV\n",
            "Extracting image frames from original video\n"
          ]
        },
        {
          "name": "stderr",
          "output_type": "stream",
          "text": [
            "\rStyle Transfer:   0%|          | 0/151 [00:00<?, ?image/s]"
          ]
        }
      ],
      "source": [
        "#@title Setup\n",
        "#@markdown An existing video will have a VQGAN style applied to each frame.\n",
        "#@markdown Refer to the [documentation](https://github.com/rkhamilton/vqgan-clip-generator/blob/main/README.md) \n",
        "#@markdown for an explanation of the options.\n",
        "\n",
        "config = VQGAN_CLIP_Config()\n",
        "input_video_path = 'input_video.MOV' #@param {type: \"string\"}\n",
        "output_video_filename = 'output_video.mp4' #@param {type: \"string\"}\n",
        "video_framerate = 30 #@param {type: \"integer\"}\n",
        "text_prompts = 'portrait on deviantart' #@param {type: \"string\"}\n",
        "output_image_width_pixels = 128 #@param {type: \"integer\"}\n",
        "output_image_height_pixels = 128 #@param {type: \"integer\"}\n",
        "iterations_per_frame = 50 #@param {type: \"integer\"}\n",
        "change_prompts_on_frame = [70, 150]  #@param {type: \"list\"}\n",
        "current_source_frame_image_weight = 2.0 #@param {type: \"number\"}\n",
        "current_source_frame_prompt_weight=0.5 #@param {type: \"number\"}\n",
        "copy_audio=False #@param {type: \"boolean\"}\n",
        "\n",
        "config.output_image_size = [output_image_width_pixels,output_image_height_pixels]\n",
        "print(input_video_path)\n",
        "\n",
        "final_output_filename = os.path.join(output_dir,'output.mp4')\n",
        "copy_audio = True\n",
        "extraction_framerate = 30\n",
        "output_framerate = 60\n",
        "\n",
        "init_image = os.path.join(output_dir,'init_image.png')\n",
        "output_video_path = os.path.join(output_dir,output_video_filename)"
      ]
    },
    {
      "cell_type": "code",
      "execution_count": null,
      "metadata": {},
      "outputs": [],
      "source": [
        "#@title Extract frames and style transfer to still images\n",
        "original_video_frames = video_tools.extract_video_frames(input_video_path, \n",
        "        extraction_framerate = video_framerate)"
      ]
    },
    {
      "cell_type": "code",
      "execution_count": null,
      "metadata": {},
      "outputs": [],
      "source": [
        "#@title Generate a single image to initialize the video.\n",
        "generate.image(eng_config = config,\n",
        "        text_prompts = text_prompts,\n",
        "        init_image=original_video_frames[0],\n",
        "        iterations = 10,\n",
        "        output_filename = init_image)"
      ]
    },
    {
      "cell_type": "code",
      "execution_count": null,
      "metadata": {},
      "outputs": [],
      "source": [
        "#@title Apply a style to the extracted video frames.\n",
        "metadata_comment = generate.style_transfer(original_video_frames,\n",
        "        eng_config=config,\n",
        "        current_source_frame_image_weight=current_source_frame_image_weight, # effects how closely the output video will be to the source video. Values of 0.5-8.0 are reasonable.\n",
        "        text_prompts = text_prompts,\n",
        "        iterations_per_frame = iterations_per_frame,\n",
        "        change_prompts_on_frame=change_prompts_on_frame,\n",
        "        init_image=init_image,\n",
        "        generated_video_frames_path = generated_video_frames_path,\n",
        "        current_source_frame_prompt_weight=current_source_frame_prompt_weight,\n",
        "        z_smoother=True,\n",
        "        z_smoother_alpha=0.7,\n",
        "        z_smoother_buffer_len=3)\n",
        "\n",
        "video_frames_to_encode = generated_video_frames_path"
      ]
    },
    {
      "cell_type": "code",
      "execution_count": null,
      "metadata": {},
      "outputs": [],
      "source": [
        "#@title Upscale the video frames\n",
        "face_enhance = False #@param {type: \"boolean\"}\n",
        "esrgan.inference_realesrgan(input=generated_video_frames_path,\n",
        "        output_images_path=upscaled_video_frames_path,\n",
        "        face_enhance=face_enhance,\n",
        "        purge_existing_files=True)\n",
        "video_frames_to_encode = upscaled_video_frames_path"
      ]
    },
    {
      "cell_type": "code",
      "execution_count": null,
      "metadata": {},
      "outputs": [],
      "source": [
        "#@title Use a wrapper for FFMPEG to encode the video.\n",
        "generated_video_no_audio=os.path.join(output_dir,'output_no_audio.mp4')\n",
        "video_tools.encode_video(output_file=generated_video_no_audio,\n",
        "        path_to_stills=video_frames_to_encode,\n",
        "        metadata_title=text_prompts,\n",
        "        metadata_comment=metadata_comment,\n",
        "        input_framerate=video_framerate)"
      ]
    },
    {
      "cell_type": "code",
      "execution_count": null,
      "metadata": {},
      "outputs": [],
      "source": [
        "#@title Use optical flow interpolation with RIFE\n",
        "RIFE_interpolation_factor = 4 #Valid choices are 4 or 16\n",
        "of_cmnd = f'python arXiv2020-RIFE\\\\inference_video.py --exp={2 if RIFE_interpolation_factor==4 else 4} --model=arXiv2020-RIFE\\\\train_log --video={final_video_filename}'\n",
        "subprocess.Popen(of_cmnd,shell=True).wait()\n",
        "print(f'RIFE optical flow command used was:\\n{of_cmnd}')\n",
        "metadata_option = f'-metadata title=\\\"{text_prompts}\\\" -metadata comment=\\\"{metadata_comment}\\\" -metadata description=\\\"Generated with https://github.com/rkhamilton/vqgan-clip-generator\\\"'\n",
        "# RIFE appends a string to the original filename of the form \"original_filename_4X_120fps.mp4\"\n",
        "RIFE_output_filename = os.path.splitext(final_video_filename)[0] + f'_{RIFE_interpolation_factor}X_{video_framerate*RIFE_interpolation_factor}fps.mp4\\\"'\n",
        "FFMPEG_output_filename = os.path.splitext(RIFE_output_filename)[0] + '_reencoded.mp4\\\"'\n",
        "ffmpeg_command = f'ffmpeg -y -i {RIFE_output_filename} -vcodec libx264 -crf 23 -pix_fmt yuv420p -hide_banner -loglevel error {metadata_option} {FFMPEG_output_filename}'\n",
        "subprocess.Popen(ffmpeg_command,shell=True).wait()\n",
        "print(f'FFMPEG command used was:\\t{ffmpeg_command}')\n",
        "generated_video_no_audio = FFMPEG_output_filename"
      ]
    },
    {
      "cell_type": "code",
      "execution_count": null,
      "metadata": {},
      "outputs": [],
      "source": [
        "#@title Copy audio from the original file\n",
        "if copy_audio:\n",
        "        video_tools.copy_video_audio(input_video_path, generated_video_no_audio, final_output_filename)\n",
        "        os.remove(generated_video_no_audio)\n",
        "else:\n",
        "        os.rename(generated_video_no_audio,final_output_filename)"
      ]
    },
    {
      "cell_type": "code",
      "execution_count": null,
      "metadata": {},
      "outputs": [],
      "source": [
        "#@title Download video\n",
        "from google.colab import files\n",
        "files.download(output_video_path)"
      ]
    }
  ],
  "metadata": {
    "accelerator": "GPU",
    "colab": {
      "authorship_tag": "ABX9TyNZIx4gRMdRg1uPI84U3yrG",
      "collapsed_sections": [],
      "include_colab_link": true,
      "name": "vqgan_clip_generator.ipynb",
      "provenance": []
    },
    "interpreter": {
      "hash": "0d55f3fc51b60cfe7759ba420d2c5cf91d5af4fdf6e1a5472cbdee14a2ceda7f"
    },
    "kernelspec": {
      "display_name": "Python 3.9.7 64-bit ('vqgan': conda)",
      "name": "python3"
    },
    "language_info": {
      "name": "python",
      "version": "3.9.7"
    }
  },
  "nbformat": 4,
  "nbformat_minor": 0
}
